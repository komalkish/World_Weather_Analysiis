{
 "cells": [
  {
   "cell_type": "markdown",
   "metadata": {},
   "source": [
    "## Deliverable 3. Create a Travel Itinerary Map."
   ]
  },
  {
   "cell_type": "code",
   "execution_count": 1,
   "metadata": {},
   "outputs": [
    {
     "name": "stdout",
     "output_type": "stream",
     "text": [
      "Requirement already satisfied: gmaps in /Applications/anaconda3/lib/python3.8/site-packages (0.9.0)\n",
      "Requirement already satisfied: traitlets>=4.3.0 in /Applications/anaconda3/lib/python3.8/site-packages (from gmaps) (5.0.5)\n",
      "Requirement already satisfied: geojson>=2.0.0 in /Applications/anaconda3/lib/python3.8/site-packages (from gmaps) (2.5.0)\n",
      "Requirement already satisfied: ipython>=5.3.0 in /Applications/anaconda3/lib/python3.8/site-packages (from gmaps) (7.22.0)\n",
      "Requirement already satisfied: six in /Applications/anaconda3/lib/python3.8/site-packages (from gmaps) (1.15.0)\n",
      "Requirement already satisfied: ipywidgets>=7.0.0 in /Applications/anaconda3/lib/python3.8/site-packages (from gmaps) (7.6.3)\n",
      "Requirement already satisfied: prompt-toolkit!=3.0.0,!=3.0.1,<3.1.0,>=2.0.0 in /Applications/anaconda3/lib/python3.8/site-packages (from ipython>=5.3.0->gmaps) (3.0.17)\n",
      "Requirement already satisfied: pickleshare in /Applications/anaconda3/lib/python3.8/site-packages (from ipython>=5.3.0->gmaps) (0.7.5)\n",
      "Requirement already satisfied: pygments in /Applications/anaconda3/lib/python3.8/site-packages (from ipython>=5.3.0->gmaps) (2.8.1)\n",
      "Requirement already satisfied: jedi>=0.16 in /Applications/anaconda3/lib/python3.8/site-packages (from ipython>=5.3.0->gmaps) (0.17.2)\n",
      "Requirement already satisfied: pexpect>4.3 in /Applications/anaconda3/lib/python3.8/site-packages (from ipython>=5.3.0->gmaps) (4.8.0)\n",
      "Requirement already satisfied: backcall in /Applications/anaconda3/lib/python3.8/site-packages (from ipython>=5.3.0->gmaps) (0.2.0)\n",
      "Requirement already satisfied: decorator in /Applications/anaconda3/lib/python3.8/site-packages (from ipython>=5.3.0->gmaps) (5.0.6)\n",
      "Requirement already satisfied: setuptools>=18.5 in /Applications/anaconda3/lib/python3.8/site-packages (from ipython>=5.3.0->gmaps) (52.0.0.post20210125)\n",
      "Requirement already satisfied: appnope in /Applications/anaconda3/lib/python3.8/site-packages (from ipython>=5.3.0->gmaps) (0.1.2)\n",
      "Requirement already satisfied: nbformat>=4.2.0 in /Applications/anaconda3/lib/python3.8/site-packages (from ipywidgets>=7.0.0->gmaps) (5.1.3)\n",
      "Requirement already satisfied: widgetsnbextension~=3.5.0 in /Applications/anaconda3/lib/python3.8/site-packages (from ipywidgets>=7.0.0->gmaps) (3.5.1)\n",
      "Requirement already satisfied: jupyterlab-widgets>=1.0.0 in /Applications/anaconda3/lib/python3.8/site-packages (from ipywidgets>=7.0.0->gmaps) (1.0.0)\n",
      "Requirement already satisfied: ipykernel>=4.5.1 in /Applications/anaconda3/lib/python3.8/site-packages (from ipywidgets>=7.0.0->gmaps) (5.3.4)\n",
      "Requirement already satisfied: tornado>=4.2 in /Applications/anaconda3/lib/python3.8/site-packages (from ipykernel>=4.5.1->ipywidgets>=7.0.0->gmaps) (6.1)\n",
      "Requirement already satisfied: jupyter-client in /Applications/anaconda3/lib/python3.8/site-packages (from ipykernel>=4.5.1->ipywidgets>=7.0.0->gmaps) (6.1.12)\n",
      "Requirement already satisfied: parso<0.8.0,>=0.7.0 in /Applications/anaconda3/lib/python3.8/site-packages (from jedi>=0.16->ipython>=5.3.0->gmaps) (0.7.0)\n",
      "Requirement already satisfied: jupyter-core in /Applications/anaconda3/lib/python3.8/site-packages (from nbformat>=4.2.0->ipywidgets>=7.0.0->gmaps) (4.7.1)\n",
      "Requirement already satisfied: jsonschema!=2.5.0,>=2.4 in /Applications/anaconda3/lib/python3.8/site-packages (from nbformat>=4.2.0->ipywidgets>=7.0.0->gmaps) (3.2.0)\n",
      "Requirement already satisfied: ipython-genutils in /Applications/anaconda3/lib/python3.8/site-packages (from nbformat>=4.2.0->ipywidgets>=7.0.0->gmaps) (0.2.0)\n",
      "Requirement already satisfied: pyrsistent>=0.14.0 in /Applications/anaconda3/lib/python3.8/site-packages (from jsonschema!=2.5.0,>=2.4->nbformat>=4.2.0->ipywidgets>=7.0.0->gmaps) (0.17.3)\n",
      "Requirement already satisfied: attrs>=17.4.0 in /Applications/anaconda3/lib/python3.8/site-packages (from jsonschema!=2.5.0,>=2.4->nbformat>=4.2.0->ipywidgets>=7.0.0->gmaps) (20.3.0)\n",
      "Requirement already satisfied: ptyprocess>=0.5 in /Applications/anaconda3/lib/python3.8/site-packages (from pexpect>4.3->ipython>=5.3.0->gmaps) (0.7.0)\n",
      "Requirement already satisfied: wcwidth in /Applications/anaconda3/lib/python3.8/site-packages (from prompt-toolkit!=3.0.0,!=3.0.1,<3.1.0,>=2.0.0->ipython>=5.3.0->gmaps) (0.2.5)\n",
      "Requirement already satisfied: notebook>=4.4.1 in /Applications/anaconda3/lib/python3.8/site-packages (from widgetsnbextension~=3.5.0->ipywidgets>=7.0.0->gmaps) (6.3.0)\n",
      "Requirement already satisfied: jinja2 in /Applications/anaconda3/lib/python3.8/site-packages (from notebook>=4.4.1->widgetsnbextension~=3.5.0->ipywidgets>=7.0.0->gmaps) (2.11.3)\n",
      "Requirement already satisfied: terminado>=0.8.3 in /Applications/anaconda3/lib/python3.8/site-packages (from notebook>=4.4.1->widgetsnbextension~=3.5.0->ipywidgets>=7.0.0->gmaps) (0.9.4)\n",
      "Requirement already satisfied: prometheus-client in /Applications/anaconda3/lib/python3.8/site-packages (from notebook>=4.4.1->widgetsnbextension~=3.5.0->ipywidgets>=7.0.0->gmaps) (0.10.1)\n",
      "Requirement already satisfied: pyzmq>=17 in /Applications/anaconda3/lib/python3.8/site-packages (from notebook>=4.4.1->widgetsnbextension~=3.5.0->ipywidgets>=7.0.0->gmaps) (20.0.0)\n",
      "Requirement already satisfied: argon2-cffi in /Applications/anaconda3/lib/python3.8/site-packages (from notebook>=4.4.1->widgetsnbextension~=3.5.0->ipywidgets>=7.0.0->gmaps) (20.1.0)\n",
      "Requirement already satisfied: Send2Trash>=1.5.0 in /Applications/anaconda3/lib/python3.8/site-packages (from notebook>=4.4.1->widgetsnbextension~=3.5.0->ipywidgets>=7.0.0->gmaps) (1.5.0)\n",
      "Requirement already satisfied: nbconvert in /Applications/anaconda3/lib/python3.8/site-packages (from notebook>=4.4.1->widgetsnbextension~=3.5.0->ipywidgets>=7.0.0->gmaps) (6.0.7)\n",
      "Requirement already satisfied: python-dateutil>=2.1 in /Applications/anaconda3/lib/python3.8/site-packages (from jupyter-client->ipykernel>=4.5.1->ipywidgets>=7.0.0->gmaps) (2.8.1)\n",
      "Requirement already satisfied: cffi>=1.0.0 in /Applications/anaconda3/lib/python3.8/site-packages (from argon2-cffi->notebook>=4.4.1->widgetsnbextension~=3.5.0->ipywidgets>=7.0.0->gmaps) (1.14.5)\n",
      "Requirement already satisfied: pycparser in /Applications/anaconda3/lib/python3.8/site-packages (from cffi>=1.0.0->argon2-cffi->notebook>=4.4.1->widgetsnbextension~=3.5.0->ipywidgets>=7.0.0->gmaps) (2.20)\n",
      "Requirement already satisfied: MarkupSafe>=0.23 in /Applications/anaconda3/lib/python3.8/site-packages (from jinja2->notebook>=4.4.1->widgetsnbextension~=3.5.0->ipywidgets>=7.0.0->gmaps) (1.1.1)\n",
      "Requirement already satisfied: testpath in /Applications/anaconda3/lib/python3.8/site-packages (from nbconvert->notebook>=4.4.1->widgetsnbextension~=3.5.0->ipywidgets>=7.0.0->gmaps) (0.4.4)\n",
      "Requirement already satisfied: jupyterlab-pygments in /Applications/anaconda3/lib/python3.8/site-packages (from nbconvert->notebook>=4.4.1->widgetsnbextension~=3.5.0->ipywidgets>=7.0.0->gmaps) (0.1.2)\n",
      "Requirement already satisfied: bleach in /Applications/anaconda3/lib/python3.8/site-packages (from nbconvert->notebook>=4.4.1->widgetsnbextension~=3.5.0->ipywidgets>=7.0.0->gmaps) (3.3.0)\n",
      "Requirement already satisfied: mistune<2,>=0.8.1 in /Applications/anaconda3/lib/python3.8/site-packages (from nbconvert->notebook>=4.4.1->widgetsnbextension~=3.5.0->ipywidgets>=7.0.0->gmaps) (0.8.4)\n",
      "Requirement already satisfied: entrypoints>=0.2.2 in /Applications/anaconda3/lib/python3.8/site-packages (from nbconvert->notebook>=4.4.1->widgetsnbextension~=3.5.0->ipywidgets>=7.0.0->gmaps) (0.3)\n",
      "Requirement already satisfied: defusedxml in /Applications/anaconda3/lib/python3.8/site-packages (from nbconvert->notebook>=4.4.1->widgetsnbextension~=3.5.0->ipywidgets>=7.0.0->gmaps) (0.7.1)\n",
      "Requirement already satisfied: nbclient<0.6.0,>=0.5.0 in /Applications/anaconda3/lib/python3.8/site-packages (from nbconvert->notebook>=4.4.1->widgetsnbextension~=3.5.0->ipywidgets>=7.0.0->gmaps) (0.5.3)\n",
      "Requirement already satisfied: pandocfilters>=1.4.1 in /Applications/anaconda3/lib/python3.8/site-packages (from nbconvert->notebook>=4.4.1->widgetsnbextension~=3.5.0->ipywidgets>=7.0.0->gmaps) (1.4.3)\n",
      "Requirement already satisfied: nest-asyncio in /Applications/anaconda3/lib/python3.8/site-packages (from nbclient<0.6.0,>=0.5.0->nbconvert->notebook>=4.4.1->widgetsnbextension~=3.5.0->ipywidgets>=7.0.0->gmaps) (1.5.1)\n",
      "Requirement already satisfied: async-generator in /Applications/anaconda3/lib/python3.8/site-packages (from nbclient<0.6.0,>=0.5.0->nbconvert->notebook>=4.4.1->widgetsnbextension~=3.5.0->ipywidgets>=7.0.0->gmaps) (1.10)\n"
     ]
    },
    {
     "name": "stdout",
     "output_type": "stream",
     "text": [
      "Requirement already satisfied: packaging in /Applications/anaconda3/lib/python3.8/site-packages (from bleach->nbconvert->notebook>=4.4.1->widgetsnbextension~=3.5.0->ipywidgets>=7.0.0->gmaps) (20.9)\n",
      "Requirement already satisfied: webencodings in /Applications/anaconda3/lib/python3.8/site-packages (from bleach->nbconvert->notebook>=4.4.1->widgetsnbextension~=3.5.0->ipywidgets>=7.0.0->gmaps) (0.5.1)\n",
      "Requirement already satisfied: pyparsing>=2.0.2 in /Applications/anaconda3/lib/python3.8/site-packages (from packaging->bleach->nbconvert->notebook>=4.4.1->widgetsnbextension~=3.5.0->ipywidgets>=7.0.0->gmaps) (2.4.7)\n",
      "Note: you may need to restart the kernel to use updated packages.\n"
     ]
    }
   ],
   "source": [
    "pip install gmaps"
   ]
  },
  {
   "cell_type": "code",
   "execution_count": 1,
   "metadata": {},
   "outputs": [],
   "source": [
    "# Dependencies and Setup\n",
    "import pandas as pd\n",
    "import requests\n",
    "import gmaps\n",
    "\n",
    "# Import API key\n",
    "from config import g_key\n",
    "\n",
    "# Configure gmaps\n",
    "gmaps.configure(api_key=g_key)"
   ]
  },
  {
   "cell_type": "code",
   "execution_count": 3,
   "metadata": {},
   "outputs": [
    {
     "data": {
      "text/html": [
       "<div>\n",
       "<style scoped>\n",
       "    .dataframe tbody tr th:only-of-type {\n",
       "        vertical-align: middle;\n",
       "    }\n",
       "\n",
       "    .dataframe tbody tr th {\n",
       "        vertical-align: top;\n",
       "    }\n",
       "\n",
       "    .dataframe thead th {\n",
       "        text-align: right;\n",
       "    }\n",
       "</style>\n",
       "<table border=\"1\" class=\"dataframe\">\n",
       "  <thead>\n",
       "    <tr style=\"text-align: right;\">\n",
       "      <th></th>\n",
       "      <th>City_ID</th>\n",
       "      <th>City</th>\n",
       "      <th>Country</th>\n",
       "      <th>Max Temp</th>\n",
       "      <th>Lat</th>\n",
       "      <th>Lng</th>\n",
       "      <th>Current Description</th>\n",
       "      <th>Hotel Name</th>\n",
       "    </tr>\n",
       "  </thead>\n",
       "  <tbody>\n",
       "    <tr>\n",
       "      <th>0</th>\n",
       "      <td>0</td>\n",
       "      <td>Fare</td>\n",
       "      <td>PF</td>\n",
       "      <td>80.87</td>\n",
       "      <td>-16.7000</td>\n",
       "      <td>-151.0167</td>\n",
       "      <td>light rain</td>\n",
       "      <td>Maitai Lapita Village Huahine</td>\n",
       "    </tr>\n",
       "    <tr>\n",
       "      <th>1</th>\n",
       "      <td>1</td>\n",
       "      <td>Hilo</td>\n",
       "      <td>US</td>\n",
       "      <td>80.33</td>\n",
       "      <td>19.7297</td>\n",
       "      <td>-155.0900</td>\n",
       "      <td>light rain</td>\n",
       "      <td>Hilo Hawaiian Hotel</td>\n",
       "    </tr>\n",
       "    <tr>\n",
       "      <th>2</th>\n",
       "      <td>2</td>\n",
       "      <td>Carnarvon</td>\n",
       "      <td>AU</td>\n",
       "      <td>75.27</td>\n",
       "      <td>-24.8667</td>\n",
       "      <td>113.6333</td>\n",
       "      <td>overcast clouds</td>\n",
       "      <td>Hospitality Carnarvon</td>\n",
       "    </tr>\n",
       "    <tr>\n",
       "      <th>3</th>\n",
       "      <td>3</td>\n",
       "      <td>Souillac</td>\n",
       "      <td>MU</td>\n",
       "      <td>77.38</td>\n",
       "      <td>-20.5167</td>\n",
       "      <td>57.5167</td>\n",
       "      <td>light rain</td>\n",
       "      <td>Shanti Maurice Resort &amp; Spa</td>\n",
       "    </tr>\n",
       "    <tr>\n",
       "      <th>4</th>\n",
       "      <td>4</td>\n",
       "      <td>Hobart</td>\n",
       "      <td>AU</td>\n",
       "      <td>70.02</td>\n",
       "      <td>-42.8794</td>\n",
       "      <td>147.3294</td>\n",
       "      <td>broken clouds</td>\n",
       "      <td>Mantra on Collins Hobart</td>\n",
       "    </tr>\n",
       "  </tbody>\n",
       "</table>\n",
       "</div>"
      ],
      "text/plain": [
       "   City_ID       City Country  Max Temp      Lat       Lng  \\\n",
       "0        0       Fare      PF     80.87 -16.7000 -151.0167   \n",
       "1        1       Hilo      US     80.33  19.7297 -155.0900   \n",
       "2        2  Carnarvon      AU     75.27 -24.8667  113.6333   \n",
       "3        3   Souillac      MU     77.38 -20.5167   57.5167   \n",
       "4        4     Hobart      AU     70.02 -42.8794  147.3294   \n",
       "\n",
       "  Current Description                     Hotel Name  \n",
       "0          light rain  Maitai Lapita Village Huahine  \n",
       "1          light rain            Hilo Hawaiian Hotel  \n",
       "2     overcast clouds          Hospitality Carnarvon  \n",
       "3          light rain    Shanti Maurice Resort & Spa  \n",
       "4       broken clouds       Mantra on Collins Hobart  "
      ]
     },
     "execution_count": 3,
     "metadata": {},
     "output_type": "execute_result"
    }
   ],
   "source": [
    "# 1. Read the WeatherPy_vacation.csv into a DataFrame.\n",
    "vacation_df = pd.read_csv(\"Vacation_Search/WeatherPy_vacation.csv\")\n",
    "vacation_df.head()"
   ]
  },
  {
   "cell_type": "code",
   "execution_count": 4,
   "metadata": {},
   "outputs": [],
   "source": [
    "# 2. Using the template add the city name, the country code, the weather description and maximum temperature for the city.\n",
    "info_box_template = \"\"\"\n",
    "<dl>\n",
    "<dt>Hotel Name</dt><dd>{Hotel Name}</dd>\n",
    "<dt>City</dt><dd>{City}</dd>\n",
    "<dt>Country</dt><dd>{Country}</dd>\n",
    "<dt>Current Weather</dt><dd>{Current Description} and {Max Temp} °F</dd>\n",
    "</dl>\n",
    "\"\"\"\n",
    "\n",
    "# 3a. Get the data from each row and add it to the formatting template and store the data in a list.\n",
    "hotel_info = [info_box_template.format(**row) for index, row in vacation_df.iterrows()]\n",
    "\n",
    "# 3b. Get the latitude and longitude from each row and store in a new DataFrame.\n",
    "locations = vacation_df[[\"Lat\", \"Lng\"]]"
   ]
  },
  {
   "cell_type": "code",
   "execution_count": 5,
   "metadata": {},
   "outputs": [
    {
     "data": {
      "application/vnd.jupyter.widget-view+json": {
       "model_id": "8e13e4ab3c0d4fdd80cef6a35923454b",
       "version_major": 2,
       "version_minor": 0
      },
      "text/plain": [
       "Figure(layout=FigureLayout(height='420px'))"
      ]
     },
     "metadata": {},
     "output_type": "display_data"
    }
   ],
   "source": [
    "# 4a. Add a marker layer for each city to the map.\n",
    "marker_layer = gmaps.marker_layer(locations, info_box_content=hotel_info)\n",
    "fig = gmaps.figure()\n",
    "fig.add_layer(marker_layer)\n",
    "# 4b. Display the figure\n",
    "fig\n"
   ]
  },
  {
   "cell_type": "code",
   "execution_count": 6,
   "metadata": {},
   "outputs": [],
   "source": [
    "# From the map above pick 4 cities and create a vacation itinerary route to travel between the four cities. \n",
    "# 5. Create DataFrames for each city by filtering the 'vacation_df' using the loc method. \n",
    "# Hint: The starting and ending city should be the same city.\n",
    "\n",
    "vacation_start = vacation_df.loc[vacation_df['City'] == 'Fare']\n",
    "vacation_end = vacation_df.loc[vacation_df['City'] == 'Fare']\n",
    "vacation_stop1 = vacation_df.loc[vacation_df['City'] == 'Carnarvon']\n",
    "vacation_stop2 = vacation_df.loc[vacation_df['City'] == 'Souillac']\n",
    "vacation_stop3 = vacation_df.loc[vacation_df['City'] == 'Hobart']"
   ]
  },
  {
   "cell_type": "code",
   "execution_count": 7,
   "metadata": {},
   "outputs": [],
   "source": [
    "# 6. Get the latitude-longitude pairs as tuples from each city DataFrame using the to_numpy function and list indexing.\n",
    "start = vacation_start['Lat'].to_numpy()[0], vacation_start['Lng'].to_numpy()[0]\n",
    "end = vacation_end['Lat'].to_numpy()[0], vacation_end['Lng'].to_numpy()[0]\n",
    "stop1 = vacation_stop1['Lat'].to_numpy()[0], vacation_stop1['Lng'].to_numpy()[0]\n",
    "stop2 = vacation_stop2['Lat'].to_numpy()[0], vacation_stop2['Lng'].to_numpy()[0]\n",
    "stop3 = vacation_stop3['Lat'].to_numpy()[0], vacation_stop3['Lng'].to_numpy()[0]"
   ]
  },
  {
   "cell_type": "code",
   "execution_count": 8,
   "metadata": {
    "scrolled": true
   },
   "outputs": [
    {
     "data": {
      "application/vnd.jupyter.widget-view+json": {
       "model_id": "351e667898744442a093df53c808cf9b",
       "version_major": 2,
       "version_minor": 0
      },
      "text/plain": [
       "Figure(layout=FigureLayout(height='420px'))"
      ]
     },
     "metadata": {},
     "output_type": "display_data"
    }
   ],
   "source": [
    "# 7. Create a direction layer map using the start and end latitude-longitude pairs,\n",
    "# and stop1, stop2, and stop3 as the waypoints. The travel_mode should be \"DRIVING\", \"BICYCLING\", or \"WALKING\".\n",
    "fig = gmaps.figure()\n",
    "travel_route = gmaps.directions_layer(start, end, waypoints=[stop1,stop2,stop3], travel_mode=\"DRIVING\" or \"BICYCLING\" or \"WALKING\")\n",
    "fig.add_layer(travel_route)\n",
    "fig\n"
   ]
  },
  {
   "cell_type": "code",
   "execution_count": 9,
   "metadata": {},
   "outputs": [
    {
     "data": {
      "text/html": [
       "<div>\n",
       "<style scoped>\n",
       "    .dataframe tbody tr th:only-of-type {\n",
       "        vertical-align: middle;\n",
       "    }\n",
       "\n",
       "    .dataframe tbody tr th {\n",
       "        vertical-align: top;\n",
       "    }\n",
       "\n",
       "    .dataframe thead th {\n",
       "        text-align: right;\n",
       "    }\n",
       "</style>\n",
       "<table border=\"1\" class=\"dataframe\">\n",
       "  <thead>\n",
       "    <tr style=\"text-align: right;\">\n",
       "      <th></th>\n",
       "      <th>City_ID</th>\n",
       "      <th>City</th>\n",
       "      <th>Country</th>\n",
       "      <th>Max Temp</th>\n",
       "      <th>Lat</th>\n",
       "      <th>Lng</th>\n",
       "      <th>Current Description</th>\n",
       "      <th>Hotel Name</th>\n",
       "    </tr>\n",
       "  </thead>\n",
       "  <tbody>\n",
       "    <tr>\n",
       "      <th>0</th>\n",
       "      <td>0</td>\n",
       "      <td>Fare</td>\n",
       "      <td>PF</td>\n",
       "      <td>80.87</td>\n",
       "      <td>-16.7000</td>\n",
       "      <td>-151.0167</td>\n",
       "      <td>light rain</td>\n",
       "      <td>Maitai Lapita Village Huahine</td>\n",
       "    </tr>\n",
       "    <tr>\n",
       "      <th>1</th>\n",
       "      <td>2</td>\n",
       "      <td>Carnarvon</td>\n",
       "      <td>AU</td>\n",
       "      <td>75.27</td>\n",
       "      <td>-24.8667</td>\n",
       "      <td>113.6333</td>\n",
       "      <td>overcast clouds</td>\n",
       "      <td>Hospitality Carnarvon</td>\n",
       "    </tr>\n",
       "    <tr>\n",
       "      <th>2</th>\n",
       "      <td>3</td>\n",
       "      <td>Souillac</td>\n",
       "      <td>MU</td>\n",
       "      <td>77.38</td>\n",
       "      <td>-20.5167</td>\n",
       "      <td>57.5167</td>\n",
       "      <td>light rain</td>\n",
       "      <td>Shanti Maurice Resort &amp; Spa</td>\n",
       "    </tr>\n",
       "    <tr>\n",
       "      <th>3</th>\n",
       "      <td>4</td>\n",
       "      <td>Hobart</td>\n",
       "      <td>AU</td>\n",
       "      <td>70.02</td>\n",
       "      <td>-42.8794</td>\n",
       "      <td>147.3294</td>\n",
       "      <td>broken clouds</td>\n",
       "      <td>Mantra on Collins Hobart</td>\n",
       "    </tr>\n",
       "  </tbody>\n",
       "</table>\n",
       "</div>"
      ],
      "text/plain": [
       "   City_ID       City Country  Max Temp      Lat       Lng  \\\n",
       "0        0       Fare      PF     80.87 -16.7000 -151.0167   \n",
       "1        2  Carnarvon      AU     75.27 -24.8667  113.6333   \n",
       "2        3   Souillac      MU     77.38 -20.5167   57.5167   \n",
       "3        4     Hobart      AU     70.02 -42.8794  147.3294   \n",
       "\n",
       "  Current Description                     Hotel Name  \n",
       "0          light rain  Maitai Lapita Village Huahine  \n",
       "1     overcast clouds          Hospitality Carnarvon  \n",
       "2          light rain    Shanti Maurice Resort & Spa  \n",
       "3       broken clouds       Mantra on Collins Hobart  "
      ]
     },
     "execution_count": 9,
     "metadata": {},
     "output_type": "execute_result"
    }
   ],
   "source": [
    "# 8. To create a marker layer map between the four cities.\n",
    "#  Combine the four city DataFrames into one DataFrame using the concat() function.\n",
    "itinerary_df = pd.concat([vacation_start, vacation_stop1, \n",
    "                          vacation_stop2, vacation_stop3]\n",
    "                         ,ignore_index=True)\n",
    "itinerary_df"
   ]
  },
  {
   "cell_type": "code",
   "execution_count": 10,
   "metadata": {},
   "outputs": [],
   "source": [
    "# 9 Using the template add city name, the country code, the weather description and maximum temperature for the city. \n",
    "info_box_template = \"\"\"\n",
    "<dl>\n",
    "<dt>Hotel Name</dt><dd>{Hotel Name}</dd>\n",
    "<dt>City</dt><dd>{City}</dd>\n",
    "<dt>Country</dt><dd>{Country}</dd>\n",
    "<dt>Max Temp</dt><dd>{Max Temp}</dd>\n",
    "</dl>\n",
    "\"\"\"\n",
    "\n",
    "# 10a Get the data from each row and add it to the formatting template and store the data in a list.\n",
    "hotel_info = [info_box_template.format(**row) for index, row in itinerary_df.iterrows()]\n",
    "\n",
    "# 10b. Get the latitude and longitude from each row and store in a new DataFrame.\n",
    "locations = itinerary_df[[\"Lat\", \"Lng\"]]"
   ]
  },
  {
   "cell_type": "code",
   "execution_count": 11,
   "metadata": {},
   "outputs": [
    {
     "data": {
      "application/vnd.jupyter.widget-view+json": {
       "model_id": "e4b0cc3500a248c9ace4c98b637ab29c",
       "version_major": 2,
       "version_minor": 0
      },
      "text/plain": [
       "Figure(layout=FigureLayout(height='420px'))"
      ]
     },
     "metadata": {},
     "output_type": "display_data"
    }
   ],
   "source": [
    "# 11a. Add a marker layer for each city to the map.\n",
    "fig = gmaps.figure()\n",
    "marker_layer = gmaps.marker_layer(locations, info_box_content=hotel_info)\n",
    "fig.add_layer(marker_layer)\n",
    "# 11b. Display the figure\n",
    "fig"
   ]
  },
  {
   "cell_type": "code",
   "execution_count": null,
   "metadata": {},
   "outputs": [],
   "source": []
  }
 ],
 "metadata": {
  "kernelspec": {
   "display_name": "PythonData",
   "language": "python",
   "name": "pythondata"
  },
  "language_info": {
   "codemirror_mode": {
    "name": "ipython",
    "version": 3
   },
   "file_extension": ".py",
   "mimetype": "text/x-python",
   "name": "python",
   "nbconvert_exporter": "python",
   "pygments_lexer": "ipython3",
   "version": "3.8.8"
  },
  "latex_envs": {
   "LaTeX_envs_menu_present": true,
   "autoclose": false,
   "autocomplete": true,
   "bibliofile": "biblio.bib",
   "cite_by": "apalike",
   "current_citInitial": 1,
   "eqLabelWithNumbers": true,
   "eqNumInitial": 1,
   "hotkeys": {
    "equation": "Ctrl-E",
    "itemize": "Ctrl-I"
   },
   "labels_anchors": false,
   "latex_user_defs": false,
   "report_style_numbering": false,
   "user_envs_cfg": false
  }
 },
 "nbformat": 4,
 "nbformat_minor": 2
}
